{
 "cells": [
  {
   "cell_type": "markdown",
   "metadata": {},
   "source": [
    "\n",
    "## Data Gathering API delivery integration system ddelivery"
   ]
  },
  {
   "cell_type": "markdown",
   "metadata": {
    "collapsed": true
   },
   "source": [
    "Считать csv файл в датафрейм ddelivery_points"
   ]
  },
  {
   "cell_type": "code",
   "execution_count": 154,
   "metadata": {
    "scrolled": false
   },
   "outputs": [],
   "source": [
    "import pandas as pd\n",
    "import numpy as np\n",
    "ddelivery_points = pd.read_csv('ddelivery_points_data.csv', index_col=None,  header=0)"
   ]
  },
  {
   "cell_type": "markdown",
   "metadata": {
    "collapsed": true
   },
   "source": [
    "Посмотреть первые 5 записей"
   ]
  },
  {
   "cell_type": "code",
   "execution_count": 155,
   "metadata": {},
   "outputs": [
    {
     "data": {
      "text/html": [
       "<div>\n",
       "<style scoped>\n",
       "    .dataframe tbody tr th:only-of-type {\n",
       "        vertical-align: middle;\n",
       "    }\n",
       "\n",
       "    .dataframe tbody tr th {\n",
       "        vertical-align: top;\n",
       "    }\n",
       "\n",
       "    .dataframe thead th {\n",
       "        text-align: right;\n",
       "    }\n",
       "</style>\n",
       "<table border=\"1\" class=\"dataframe\">\n",
       "  <thead>\n",
       "    <tr style=\"text-align: right;\">\n",
       "      <th></th>\n",
       "      <th>id</th>\n",
       "      <th>address</th>\n",
       "      <th>city_id</th>\n",
       "      <th>city_name</th>\n",
       "      <th>delivery_company_id</th>\n",
       "      <th>delivery_company_name</th>\n",
       "      <th>description</th>\n",
       "      <th>id.1</th>\n",
       "      <th>is_card</th>\n",
       "      <th>is_cash</th>\n",
       "      <th>is_fitting</th>\n",
       "      <th>latitude</th>\n",
       "      <th>longitude</th>\n",
       "      <th>name</th>\n",
       "      <th>photos</th>\n",
       "      <th>schedule</th>\n",
       "      <th>type</th>\n",
       "    </tr>\n",
       "  </thead>\n",
       "  <tbody>\n",
       "    <tr>\n",
       "      <th>0</th>\n",
       "      <td>0</td>\n",
       "      <td>ул. им Стасова, 182/1</td>\n",
       "      <td>88</td>\n",
       "      <td>г. Краснодар, Краснодарский край</td>\n",
       "      <td>1</td>\n",
       "      <td>PickPoint</td>\n",
       "      <td>Постамат расположен в ТРК Меридиан. Транспорт:...</td>\n",
       "      <td>256</td>\n",
       "      <td>1</td>\n",
       "      <td>1</td>\n",
       "      <td>0</td>\n",
       "      <td>45.030044</td>\n",
       "      <td>39.046170</td>\n",
       "      <td>Постамат: ТРК Меридиан</td>\n",
       "      <td>['http://file.ddelivery.ru/preview/1445496?key...</td>\n",
       "      <td>{'1': '09:00/22:00', '2': '09:00/22:00', '3': ...</td>\n",
       "      <td>2</td>\n",
       "    </tr>\n",
       "    <tr>\n",
       "      <th>1</th>\n",
       "      <td>1</td>\n",
       "      <td>ул. Мамина-Сибиряка, 130</td>\n",
       "      <td>375</td>\n",
       "      <td>г. Екатеринбург, Свердловская обл.</td>\n",
       "      <td>1</td>\n",
       "      <td>PickPoint</td>\n",
       "      <td>Пункт выдачи заказов расположен в отделении Bo...</td>\n",
       "      <td>2304</td>\n",
       "      <td>1</td>\n",
       "      <td>1</td>\n",
       "      <td>0</td>\n",
       "      <td>56.830743</td>\n",
       "      <td>60.620741</td>\n",
       "      <td>ПВЗ: BoxBerry: Мамина-Сибиряка</td>\n",
       "      <td>['http://file.ddelivery.ru/preview/1452587?key...</td>\n",
       "      <td>{'1': '10:00/20:00', '2': '10:00/20:00', '3': ...</td>\n",
       "      <td>1</td>\n",
       "    </tr>\n",
       "    <tr>\n",
       "      <th>2</th>\n",
       "      <td>2</td>\n",
       "      <td>ул. Жарова, 41</td>\n",
       "      <td>1151</td>\n",
       "      <td>г. Шатура, Московская обл., Шатурский р-н</td>\n",
       "      <td>1</td>\n",
       "      <td>PickPoint</td>\n",
       "      <td>Постамат расположен в ТЦ Евростиль. Остановка ...</td>\n",
       "      <td>4864</td>\n",
       "      <td>1</td>\n",
       "      <td>1</td>\n",
       "      <td>0</td>\n",
       "      <td>55.577073</td>\n",
       "      <td>39.524462</td>\n",
       "      <td>Постамат: ТЦ Евростиль</td>\n",
       "      <td>['http://file.ddelivery.ru/preview/1459670?key...</td>\n",
       "      <td>{'1': '09:00/20:00', '2': '09:00/20:00', '3': ...</td>\n",
       "      <td>2</td>\n",
       "    </tr>\n",
       "    <tr>\n",
       "      <th>3</th>\n",
       "      <td>3</td>\n",
       "      <td>ул. Красная, 8</td>\n",
       "      <td>222</td>\n",
       "      <td>г. Курск, Курская обл.</td>\n",
       "      <td>1</td>\n",
       "      <td>PickPoint</td>\n",
       "      <td>Пункт выдачи находится в офисе продаж и обслуж...</td>\n",
       "      <td>5888</td>\n",
       "      <td>0</td>\n",
       "      <td>1</td>\n",
       "      <td>0</td>\n",
       "      <td>51.730908</td>\n",
       "      <td>36.191129</td>\n",
       "      <td>ПВЗ: Ростелеком: Красная</td>\n",
       "      <td>['http://file.ddelivery.ru/preview/1460345?key...</td>\n",
       "      <td>{'1': '08:00/20:00', '2': '08:00/20:00', '3': ...</td>\n",
       "      <td>1</td>\n",
       "    </tr>\n",
       "    <tr>\n",
       "      <th>4</th>\n",
       "      <td>4</td>\n",
       "      <td>ул. Чкалова, 3</td>\n",
       "      <td>153</td>\n",
       "      <td>г. Брянск, Брянская обл.</td>\n",
       "      <td>1</td>\n",
       "      <td>PickPoint</td>\n",
       "      <td>Постамат расположен в супермаркете Фикс-Прайс,...</td>\n",
       "      <td>6400</td>\n",
       "      <td>0</td>\n",
       "      <td>1</td>\n",
       "      <td>0</td>\n",
       "      <td>53.214787</td>\n",
       "      <td>34.389566</td>\n",
       "      <td>Постамат: QIWI: ТРЦ Ярмарка: Фикс-Прайс</td>\n",
       "      <td>['http://file.ddelivery.ru/preview/1460798?key...</td>\n",
       "      <td>{'1': '09:00/21:00', '2': '09:00/21:00', '3': ...</td>\n",
       "      <td>2</td>\n",
       "    </tr>\n",
       "  </tbody>\n",
       "</table>\n",
       "</div>"
      ],
      "text/plain": [
       "   id                   address  city_id  \\\n",
       "0   0     ул. им Стасова, 182/1       88   \n",
       "1   1  ул. Мамина-Сибиряка, 130      375   \n",
       "2   2            ул. Жарова, 41     1151   \n",
       "3   3            ул. Красная, 8      222   \n",
       "4   4            ул. Чкалова, 3      153   \n",
       "\n",
       "                                   city_name  delivery_company_id  \\\n",
       "0           г. Краснодар, Краснодарский край                    1   \n",
       "1         г. Екатеринбург, Свердловская обл.                    1   \n",
       "2  г. Шатура, Московская обл., Шатурский р-н                    1   \n",
       "3                     г. Курск, Курская обл.                    1   \n",
       "4                   г. Брянск, Брянская обл.                    1   \n",
       "\n",
       "  delivery_company_name                                        description  \\\n",
       "0             PickPoint  Постамат расположен в ТРК Меридиан. Транспорт:...   \n",
       "1             PickPoint  Пункт выдачи заказов расположен в отделении Bo...   \n",
       "2             PickPoint  Постамат расположен в ТЦ Евростиль. Остановка ...   \n",
       "3             PickPoint  Пункт выдачи находится в офисе продаж и обслуж...   \n",
       "4             PickPoint  Постамат расположен в супермаркете Фикс-Прайс,...   \n",
       "\n",
       "   id.1  is_card  is_cash  is_fitting   latitude  longitude  \\\n",
       "0   256        1        1           0  45.030044  39.046170   \n",
       "1  2304        1        1           0  56.830743  60.620741   \n",
       "2  4864        1        1           0  55.577073  39.524462   \n",
       "3  5888        0        1           0  51.730908  36.191129   \n",
       "4  6400        0        1           0  53.214787  34.389566   \n",
       "\n",
       "                                      name  \\\n",
       "0                   Постамат: ТРК Меридиан   \n",
       "1           ПВЗ: BoxBerry: Мамина-Сибиряка   \n",
       "2                   Постамат: ТЦ Евростиль   \n",
       "3                 ПВЗ: Ростелеком: Красная   \n",
       "4  Постамат: QIWI: ТРЦ Ярмарка: Фикс-Прайс   \n",
       "\n",
       "                                              photos  \\\n",
       "0  ['http://file.ddelivery.ru/preview/1445496?key...   \n",
       "1  ['http://file.ddelivery.ru/preview/1452587?key...   \n",
       "2  ['http://file.ddelivery.ru/preview/1459670?key...   \n",
       "3  ['http://file.ddelivery.ru/preview/1460345?key...   \n",
       "4  ['http://file.ddelivery.ru/preview/1460798?key...   \n",
       "\n",
       "                                            schedule  type  \n",
       "0  {'1': '09:00/22:00', '2': '09:00/22:00', '3': ...     2  \n",
       "1  {'1': '10:00/20:00', '2': '10:00/20:00', '3': ...     1  \n",
       "2  {'1': '09:00/20:00', '2': '09:00/20:00', '3': ...     2  \n",
       "3  {'1': '08:00/20:00', '2': '08:00/20:00', '3': ...     1  \n",
       "4  {'1': '09:00/21:00', '2': '09:00/21:00', '3': ...     2  "
      ]
     },
     "execution_count": 155,
     "metadata": {},
     "output_type": "execute_result"
    }
   ],
   "source": [
    "ddelivery_points.head()\n"
   ]
  },
  {
   "cell_type": "markdown",
   "metadata": {
    "collapsed": true
   },
   "source": [
    "Сколько наблюдений в наборе данных?\n"
   ]
  },
  {
   "cell_type": "code",
   "execution_count": 156,
   "metadata": {},
   "outputs": [
    {
     "data": {
      "text/plain": [
       "12731"
      ]
     },
     "execution_count": 156,
     "metadata": {},
     "output_type": "execute_result"
    }
   ],
   "source": [
    "ddelivery_points.shape[0]"
   ]
  },
  {
   "cell_type": "markdown",
   "metadata": {
    "collapsed": true
   },
   "source": [
    "Сколько столбцов в наборе данных?"
   ]
  },
  {
   "cell_type": "code",
   "execution_count": 157,
   "metadata": {},
   "outputs": [
    {
     "data": {
      "text/plain": [
       "17"
      ]
     },
     "execution_count": 157,
     "metadata": {},
     "output_type": "execute_result"
    }
   ],
   "source": [
    "ddelivery_points.shape[1]"
   ]
  },
  {
   "cell_type": "markdown",
   "metadata": {
    "collapsed": true
   },
   "source": [
    "Напечатайте все названия столбцов"
   ]
  },
  {
   "cell_type": "code",
   "execution_count": 158,
   "metadata": {},
   "outputs": [
    {
     "data": {
      "text/plain": [
       "Index(['id', 'address', 'city_id', 'city_name', 'delivery_company_id',\n",
       "       'delivery_company_name', 'description', 'id.1', 'is_card', 'is_cash',\n",
       "       'is_fitting', 'latitude', 'longitude', 'name', 'photos', 'schedule',\n",
       "       'type'],\n",
       "      dtype='object')"
      ]
     },
     "execution_count": 158,
     "metadata": {},
     "output_type": "execute_result"
    }
   ],
   "source": [
    "ddelivery_points.columns"
   ]
  },
  {
   "cell_type": "markdown",
   "metadata": {
    "collapsed": true
   },
   "source": [
    "У какой компании больше точек доставки?"
   ]
  },
  {
   "cell_type": "code",
   "execution_count": 165,
   "metadata": {},
   "outputs": [
    {
     "data": {
      "text/plain": [
       "Index(['delivery_company_name', 'id'], dtype='object')"
      ]
     },
     "execution_count": 165,
     "metadata": {},
     "output_type": "execute_result"
    }
   ],
   "source": [
    "aa = ddelivery_points[['delivery_company_name', 'id']].groupby('delivery_company_name').count().sort_values(by='id', ascending=False).reset_index()\n",
    "aa.columns"
   ]
  },
  {
   "cell_type": "markdown",
   "metadata": {},
   "source": [
    "У компании Call IM\t только одна точка доставки.\n",
    "\n",
    "Вывести адресс этой точки доставки. \n",
    "\n",
    "Хочу проверить что это верная инфрмация."
   ]
  },
  {
   "cell_type": "code",
   "execution_count": 174,
   "metadata": {},
   "outputs": [
    {
     "data": {
      "text/plain": [
       "Index(['id', 'address', 'city_id', 'city_name', 'delivery_company_id',\n",
       "       'delivery_company_name', 'description', 'id.1', 'is_card', 'is_cash',\n",
       "       'is_fitting', 'latitude', 'longitude', 'name', 'photos', 'schedule',\n",
       "       'type'],\n",
       "      dtype='object')"
      ]
     },
     "execution_count": 174,
     "metadata": {},
     "output_type": "execute_result"
    }
   ],
   "source": [
    "ddelivery_points[ddelivery_points.delivery_company_name=='Call IM'].columns"
   ]
  },
  {
   "cell_type": "code",
   "execution_count": 179,
   "metadata": {},
   "outputs": [
    {
     "data": {
      "text/plain": [
       "12234    Call IM\n",
       "Name: name, dtype: object"
      ]
     },
     "execution_count": 179,
     "metadata": {},
     "output_type": "execute_result"
    }
   ],
   "source": [
    "ddelivery_points[ddelivery_points.delivery_company_name=='Call IM']['name']"
   ]
  },
  {
   "cell_type": "markdown",
   "metadata": {},
   "source": [
    "Топ городов по количеству пунктов самовывоза?"
   ]
  },
  {
   "cell_type": "code",
   "execution_count": 182,
   "metadata": {},
   "outputs": [
    {
     "data": {
      "text/plain": [
       "Index(['city_id', 'city_name', 'delivery_company_id'], dtype='object')"
      ]
     },
     "execution_count": 182,
     "metadata": {},
     "output_type": "execute_result"
    }
   ],
   "source": [
    "top_city = ddelivery_points[['city_id', 'city_name' ,'delivery_company_id']].groupby(['city_id', 'city_name']).count().sort_values(by='delivery_company_id', ascending=False).reset_index()\n",
    "\n",
    "# top_city.head(10)\n",
    "\n",
    "top_city.columns"
   ]
  },
  {
   "cell_type": "markdown",
   "metadata": {},
   "source": [
    "Сколько пунктов самовывоза в Краснодаре, которые принимают карты для оплаты?"
   ]
  },
  {
   "cell_type": "code",
   "execution_count": 163,
   "metadata": {},
   "outputs": [
    {
     "data": {
      "text/plain": [
       "84"
      ]
     },
     "execution_count": 163,
     "metadata": {},
     "output_type": "execute_result"
    }
   ],
   "source": [
    "card_pay_in_krasnodar = np.logical_and(ddelivery_points.city_id==88, ddelivery_points.is_card == 1)\n",
    "\n",
    "ddelivery_points[card_pay_in_krasnodar].shape[0]"
   ]
  }
 ],
 "metadata": {
  "kernelspec": {
   "display_name": "Python 3",
   "language": "python",
   "name": "python3"
  },
  "language_info": {
   "codemirror_mode": {
    "name": "ipython",
    "version": 3
   },
   "file_extension": ".py",
   "mimetype": "text/x-python",
   "name": "python",
   "nbconvert_exporter": "python",
   "pygments_lexer": "ipython3",
   "version": "3.7.1"
  }
 },
 "nbformat": 4,
 "nbformat_minor": 2
}
